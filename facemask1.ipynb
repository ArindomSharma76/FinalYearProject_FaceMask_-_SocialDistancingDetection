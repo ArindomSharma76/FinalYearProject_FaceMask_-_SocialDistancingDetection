{
 "cells": [
  {
   "cell_type": "code",
   "execution_count": 11,
   "metadata": {},
   "outputs": [],
   "source": [
    "from keras.models import load_model\n",
    "import cv2\n",
    "import numpy as np\n",
    "import tkinter\n",
    "from tkinter import messagebox\n",
    "import smtplib"
   ]
  },
  {
   "cell_type": "code",
   "execution_count": 12,
   "metadata": {},
   "outputs": [],
   "source": [
    "from pygame import mixer\n",
    "mixer.init()\n",
    "sound = mixer.Sound('alarm.wav')\n"
   ]
  },
  {
   "cell_type": "code",
   "execution_count": 13,
   "metadata": {},
   "outputs": [
    {
     "data": {
      "text/plain": [
       "''"
      ]
     },
     "execution_count": 13,
     "metadata": {},
     "output_type": "execute_result"
    }
   ],
   "source": [
    "# Initialize Tkinter\n",
    "root = tkinter.Tk()\n",
    "root.withdraw()\n"
   ]
  },
  {
   "cell_type": "code",
   "execution_count": 14,
   "metadata": {},
   "outputs": [],
   "source": [
    "model = load_model('model-090.model')\n"
   ]
  },
  {
   "cell_type": "code",
   "execution_count": 15,
   "metadata": {},
   "outputs": [],
   "source": [
    "import os"
   ]
  },
  {
   "cell_type": "code",
   "execution_count": 16,
   "metadata": {},
   "outputs": [],
   "source": [
    "face_clsfr=cv2.CascadeClassifier(cv2.data.haarcascades + 'haarcascade_frontalface_default.xml')\n"
   ]
  },
  {
   "cell_type": "code",
   "execution_count": 17,
   "metadata": {},
   "outputs": [],
   "source": [
    "cap=cv2.VideoCapture(0)"
   ]
  },
  {
   "cell_type": "code",
   "execution_count": 18,
   "metadata": {},
   "outputs": [],
   "source": [
    "labels_dict={0:'MASK',1:'NO MASK'}\n",
    "color_dict={0:(0,255,0),1:(0,0,255)}"
   ]
  },
  {
   "cell_type": "code",
   "execution_count": 19,
   "metadata": {},
   "outputs": [],
   "source": [
    "SUBJECT = \"Subject\"   \n",
    "TEXT = \"One Visitor violated Face Mask Policy. See in the camera to recognize user. A Person has been detected without a face mask in the Hotel Lobby Area 9. Please Alert the authorities.\"\n",
    "\n"
   ]
  },
  {
   "cell_type": "code",
   "execution_count": 20,
   "metadata": {
    "scrolled": true
   },
   "outputs": [
    {
     "name": "stdout",
     "output_type": "stream",
     "text": [
      "Beep\n",
      "Beep\n",
      "Beep\n",
      "Beep\n",
      "Beep\n",
      "Beep\n",
      "Beep\n",
      "Beep\n",
      "Beep\n",
      "Beep\n",
      "Beep\n",
      "Beep\n",
      "Beep\n",
      "Beep\n",
      "Beep\n",
      "Beep\n",
      "Beep\n",
      "Beep\n",
      "Beep\n",
      "Beep\n",
      "Beep\n",
      "Beep\n",
      "Beep\n",
      "Beep\n",
      "Beep\n",
      "Beep\n",
      "Beep\n",
      "Beep\n",
      "Beep\n",
      "Beep\n",
      "Beep\n",
      "Beep\n",
      "Beep\n",
      "Beep\n",
      "Beep\n",
      "Beep\n",
      "Beep\n",
      "Beep\n",
      "Beep\n",
      "Beep\n",
      "Beep\n",
      "Beep\n",
      "Beep\n",
      "Beep\n",
      "Beep\n",
      "Beep\n",
      "Beep\n",
      "Beep\n",
      "Beep\n",
      "Beep\n",
      "Beep\n",
      "Beep\n",
      "Beep\n",
      "Beep\n",
      "Beep\n",
      "Beep\n",
      "Beep\n",
      "Beep\n",
      "Beep\n",
      "Beep\n",
      "Beep\n",
      "Beep\n",
      "Beep\n",
      "Beep\n",
      "Beep\n",
      "Beep\n",
      "Beep\n",
      "Beep\n",
      "Beep\n",
      "Beep\n",
      "Beep\n",
      "Beep\n",
      "Beep\n",
      "Beep\n",
      "Beep\n",
      "Beep\n",
      "Beep\n",
      "Beep\n",
      "Beep\n",
      "Beep\n",
      "Beep\n",
      "Beep\n",
      "Beep\n",
      "Beep\n",
      "Beep\n",
      "Beep\n",
      "Beep\n",
      "Beep\n",
      "Beep\n",
      "Beep\n",
      "Beep\n",
      "Beep\n",
      "Beep\n",
      "Beep\n",
      "Beep\n",
      "Beep\n",
      "Beep\n",
      "Beep\n",
      "Beep\n",
      "Beep\n",
      "Beep\n",
      "Beep\n",
      "Beep\n",
      "Beep\n",
      "Beep\n",
      "Beep\n",
      "Beep\n",
      "Beep\n",
      "Beep\n",
      "Beep\n",
      "Beep\n",
      "Beep\n",
      "Beep\n",
      "Beep\n",
      "Beep\n",
      "Beep\n",
      "Beep\n"
     ]
    }
   ],
   "source": [
    "while(True):\n",
    "\n",
    "    ret,frame=cap.read()\n",
    "    gray=cv2.cvtColor(frame,cv2.COLOR_BGR2GRAY)\n",
    "    faces=face_clsfr.detectMultiScale(gray,1.3,5)  \n",
    "\n",
    "    for (x,y,w,h) in faces:\n",
    "    \n",
    "        face_img=gray[y:y+w,x:x+w]\n",
    "        resized=cv2.resize(face_img,(100,100))\n",
    "        normalized=resized/255.0\n",
    "        reshaped=np.reshape(normalized,(1,100,100,1))\n",
    "        result=model.predict(reshaped)\n",
    "\n",
    "        label=np.argmax(result,axis=1)[0]\n",
    "        \n",
    "        cv2.rectangle(frame,(x,y),(x+w,y+h),color_dict[label],4)\n",
    "        cv2.rectangle(frame,(x,y-40),(x+w,y),color_dict[label],4)\n",
    "        cv2.putText(frame, labels_dict[label], (x, y-10),cv2.FONT_ITALIC, 1,(255,255,255),4)\n",
    "    \n",
    "        if(labels_dict[label] =='MASK'):\n",
    "            print(\"No Beep\")\n",
    "        elif(labels_dict[label] =='NO MASK'):\n",
    "                sound.play()\n",
    "                print(\"Beep\")\n",
    "     \n",
    "    cv2.imshow('Mask Detection App',frame)\n",
    "    if cv2.waitKey(1) & 0xFF == ord('q'):\n",
    "        server = smtplib.SMTP_SSL(\"smtp.gmail.com\", 465)\n",
    "        server.login(\"sharmasauravbhai781@gmail.com\", \"dibrugarh\")\n",
    "        server.sendmail(\"sharmasauravbhai781@gmail.com\",\"callmesaurav861@gmail.com\",\"please wear face mask\")\n",
    "        server.quit() \n",
    "        break;\n",
    "cap.release()\n",
    "cv2.destroyAllWindows()\n"
   ]
  },
  {
   "cell_type": "code",
   "execution_count": null,
   "metadata": {},
   "outputs": [],
   "source": []
  },
  {
   "cell_type": "code",
   "execution_count": null,
   "metadata": {},
   "outputs": [],
   "source": []
  },
  {
   "cell_type": "code",
   "execution_count": null,
   "metadata": {},
   "outputs": [],
   "source": []
  },
  {
   "cell_type": "code",
   "execution_count": null,
   "metadata": {},
   "outputs": [],
   "source": []
  },
  {
   "cell_type": "code",
   "execution_count": null,
   "metadata": {},
   "outputs": [],
   "source": []
  },
  {
   "cell_type": "code",
   "execution_count": null,
   "metadata": {},
   "outputs": [],
   "source": []
  }
 ],
 "metadata": {
  "kernelspec": {
   "display_name": "Python 3",
   "language": "python",
   "name": "python3"
  },
  "language_info": {
   "codemirror_mode": {
    "name": "ipython",
    "version": 3
   },
   "file_extension": ".py",
   "mimetype": "text/x-python",
   "name": "python",
   "nbconvert_exporter": "python",
   "pygments_lexer": "ipython3",
   "version": "3.8.5"
  }
 },
 "nbformat": 4,
 "nbformat_minor": 4
}
